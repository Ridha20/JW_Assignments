{
 "cells": [
  {
   "cell_type": "code",
   "execution_count": null,
   "metadata": {},
   "outputs": [],
   "source": [
    "'''\n",
    "A balanced delimiter starts with an opening character ( (, [, { ), ends with a matching closing character ( ), ], } respectively), and has only other\n",
    "matching delimiters in between. A balanced delimiter may contain any number of balanced delimiters.\n",
    "\n",
    "Examples\n",
    "The following are examples of balanced delimiter strings:\n",
    "\n",
    "()[]{}\n",
    "([{}])\n",
    "([]{})\n",
    "The following are examples of invalid strings:\n",
    "([)]\n",
    "([]\n",
    "[])\n",
    "([})\n",
    "Input is provided as a single string. Your output should be True or False according to whether the string is balanced. For example:\n",
    "\n",
    "Input:\n",
    "([{}])\n",
    "Output:\n",
    "True\n",
    "\n",
    "'''"
   ]
  },
  {
   "cell_type": "code",
   "execution_count": 4,
   "metadata": {},
   "outputs": [
    {
     "name": "stdout",
     "output_type": "stream",
     "text": [
      "Input:  {)){}\n",
      "Output:  False\n"
     ]
    }
   ],
   "source": [
    "def balanced_delimiter(data):\n",
    "    list= []\n",
    "    brackets = {')': '(', ']': '[', '}': '{'}\n",
    "\n",
    "    for i in data:\n",
    "        if i in brackets:\n",
    "            first= list.pop()\n",
    "            if first!= brackets[i]:\n",
    "                return False\n",
    "        elif i in brackets.values():\n",
    "            list.append(i)\n",
    "\n",
    "    return not list\n",
    "\n",
    "str= input(\"Enter Input: \")\n",
    "result= balanced_delimiter(str)\n",
    "print(f\"Input: \",str)\n",
    "print(f\"Output: \",result)"
   ]
  }
 ],
 "metadata": {
  "kernelspec": {
   "display_name": "base",
   "language": "python",
   "name": "python3"
  },
  "language_info": {
   "codemirror_mode": {
    "name": "ipython",
    "version": 3
   },
   "file_extension": ".py",
   "mimetype": "text/x-python",
   "name": "python",
   "nbconvert_exporter": "python",
   "pygments_lexer": "ipython3",
   "version": "3.9.13"
  }
 },
 "nbformat": 4,
 "nbformat_minor": 2
}
