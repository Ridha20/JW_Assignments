{
 "cells": [
  {
   "cell_type": "code",
   "execution_count": 12,
   "metadata": {},
   "outputs": [
    {
     "name": "stdout",
     "output_type": "stream",
     "text": [
      "45 in Roman numerals is XLV\n",
      "MCMLXXIV in integers is 1974\n"
     ]
    }
   ],
   "source": [
    "# Class \n",
    "'''\n",
    "1) Write a python class to convert an integer into a roman numeral and viceversa\n",
    "'''\n",
    "\n",
    "class RomanConverter:\n",
    "    def int_to_roman(self, num):\n",
    "        if not 1 <= num <= 3999:\n",
    "            return \"Invalid input\"\n",
    "        num_values = [1000, 900, 500, 400, 100, 90, 50, 40, 10, 9, 5, 4, 1]\n",
    "        roman_symbols = ['M', 'CM', 'D', 'CD', 'C', 'XC', 'L', 'XL', 'X', 'IX', 'V', 'IV', 'I']\n",
    "        result = ''\n",
    "        for i in range(len(num_values)):\n",
    "            while num >= num_values[i]:\n",
    "                result += roman_symbols[i]\n",
    "                num -= num_values[i]\n",
    "        return result\n",
    "\n",
    "    def roman_to_int(self, s):\n",
    "        roman_to_int_dict = {\n",
    "            'I': 1, 'V': 5, 'X': 10, 'L': 50, 'C': 100, 'D': 500, 'M': 1000\n",
    "        }\n",
    "        num = 0\n",
    "        prev_value = 0\n",
    "        for char in s:\n",
    "            value = roman_to_int_dict.get(char, 0)\n",
    "            if value > prev_value:\n",
    "                num += value - 2 * prev_value\n",
    "            else:\n",
    "                num += value\n",
    "            prev_value = value\n",
    "        return num\n",
    "\n",
    "converter= RomanConverter()\n",
    "num= int(input(\"Enter number:\"))\n",
    "roman_num= converter.int_to_roman(num)\n",
    "print(f\"{num} in Roman numerals is {roman_num}\")\n",
    "\n",
    "roman_num= input(\"Enter number:\")\n",
    "integer_value= converter.roman_to_int(roman_num)\n",
    "print(f\"{roman_num} in integers is {integer_value}\")\n",
    "\n",
    "\n"
   ]
  },
  {
   "cell_type": "code",
   "execution_count": 17,
   "metadata": {},
   "outputs": [
    {
     "name": "stdout",
     "output_type": "stream",
     "text": [
      "True\n",
      "True\n",
      "False\n",
      "False\n",
      "False\n"
     ]
    }
   ],
   "source": [
    "'''\n",
    "2) Write a Python class to find validity of a string of parentheses, '(', ')', '{', '}', '[' and ']. These brackets must be close in the correct order, \n",
    "for example \"()\" and \"()[]{}\" are valid but \"[)\", \"({[)]\" and \"{{{\" are invalid. \n",
    "\n",
    "'''\n",
    "class valid_bracket:\n",
    "    def is_valid(self, s):\n",
    "        stack = []\n",
    "        diff_brackets = {\"(\": \")\", \"{\": \"}\", \"[\": \"]\"}\n",
    "        \n",
    "        for char in s:\n",
    "            if char in diff_brackets.values():\n",
    "                if not stack or stack.pop() != char:\n",
    "                    return False\n",
    "            elif char in diff_brackets.keys():\n",
    "                stack.append(diff_brackets[char])\n",
    "            else:\n",
    "                return False   \n",
    "        return not stack \n",
    "    \n",
    "parenthesis = valid_bracket()\n",
    "print(parenthesis.is_valid(\"()\"))  \n",
    "print(parenthesis.is_valid(\"()[]{}\"))  \n",
    "print(parenthesis.is_valid(\"[)\"))  \n",
    "print(parenthesis.is_valid(\"({[)]\"))  \n",
    "print(parenthesis.is_valid(\"{{{\"))  \n",
    "\n"
   ]
  },
  {
   "cell_type": "code",
   "execution_count": 18,
   "metadata": {},
   "outputs": [
    {
     "name": "stdout",
     "output_type": "stream",
     "text": [
      "[[], [4], [5], [4, 5], [6], [4, 6], [5, 6], [4, 5, 6]]\n"
     ]
    }
   ],
   "source": [
    "'''\n",
    "3) Write a Python class to get all possible unique subsets from a set of distinct integers Input : [4, 5, 6] Output : [[], [6], [5], [5, 6], [4], [4, 6], [4, 5], [4, 5, 6]] \n",
    "\n",
    "'''\n",
    "class unique_subset:\n",
    "    def get_subset(self, nums):\n",
    "        subsets = [[]]\n",
    "        for i in nums:\n",
    "            subsets += [curr + [i] for curr in subsets]\n",
    "        return subsets\n",
    "\n",
    "# Example usage:\n",
    "result= unique_subset()\n",
    "input_set= [4, 5, 6]\n",
    "output_subsets = result.get_subset(input_set)\n",
    "print(output_subsets)\n"
   ]
  },
  {
   "cell_type": "code",
   "execution_count": 20,
   "metadata": {},
   "outputs": [
    {
     "name": "stdout",
     "output_type": "stream",
     "text": [
      "[2, 3]\n"
     ]
    }
   ],
   "source": [
    "'''\n",
    "4) Write a Python class to find a pair of elements (indices of the two numbers) from a given array whose sum equals a specific target number. \n",
    "Note: There will be one solution for each input and do not use the same element twice. \n",
    "Input: numbers= [90, 20,10,40,50,60,70], target=50 \n",
    "Output: 3, 4 \n",
    "\n",
    "'''\n",
    "class SumFinder:\n",
    "    def find_pair_indices(self, nums, target):\n",
    "        indices = {} \n",
    "\n",
    "        for i in range(len(numbers)):\n",
    "            num = numbers[i]\n",
    "            diff = target - num\n",
    "\n",
    "            if diff in indices:\n",
    "                return [indices[diff], i]\n",
    "\n",
    "            indices[num] = i\n",
    "\n",
    "sum_finder= SumFinder()\n",
    "numbers = [90, 20, 10, 40, 50, 60, 70]\n",
    "target = 50\n",
    "result= sum_finder.find_pair_indices(numbers, target)\n",
    "print(result) \n",
    "\n"
   ]
  },
  {
   "cell_type": "code",
   "execution_count": 30,
   "metadata": {},
   "outputs": [
    {
     "name": "stdout",
     "output_type": "stream",
     "text": [
      "[[-10, 2, 8], [-7, -3, 10]]\n"
     ]
    }
   ],
   "source": [
    "'''\n",
    "5) Write a Python class to find the three elements that sum to zero from a set of n real numbers.\n",
    " Input array : [-25, -10, -7, -3, 2, 4, 8, 10] Output : [[-10, 2, 8], [-7, -3, 10]] \n",
    "\n",
    "'''\n",
    "class Three_elements:\n",
    "    def sum_zero(self, nums):\n",
    "        results = []\n",
    "        nums.sort()\n",
    "        \n",
    "        for i in range(len(nums) - 2):\n",
    "            if i > 0 and nums[i] == nums[i - 1]:\n",
    "                continue\n",
    "            \n",
    "            left, right = i + 1, len(nums) - 1\n",
    "            while left < right:\n",
    "                total = nums[i] + nums[left] + nums[right]\n",
    "                if total == 0:\n",
    "                    results.append([nums[i], nums[left], nums[right]])\n",
    "                    while left < right and nums[left] == nums[left + 1]:\n",
    "                        left += 1\n",
    "                    while left < right and nums[right] == nums[right - 1]:\n",
    "                        right -= 1\n",
    "                    left += 1\n",
    "                    right -= 1\n",
    "                elif total < 0:\n",
    "                    left += 1\n",
    "                else:\n",
    "                    right -= 1\n",
    "        \n",
    "        return results\n",
    "\n",
    "result= Three_elements()\n",
    "array= [-25, -10, -7, -3, 2, 4, 8, 10]\n",
    "output= result.sum_zero(array)\n",
    "print(output) \n"
   ]
  },
  {
   "cell_type": "code",
   "execution_count": 34,
   "metadata": {},
   "outputs": [
    {
     "name": "stdout",
     "output_type": "stream",
     "text": [
      "1156\n"
     ]
    }
   ],
   "source": [
    "'''\n",
    "6) Write a Python class to implement pow(x, n) \n",
    "\n",
    "'''\n",
    "class Pow_implement:\n",
    "    def pow_num(self, x, n):\n",
    "        return x ** n\n",
    "\n",
    "result= Pow_implement()\n",
    "user_input= int(input(\"Enter the number: \"))\n",
    "exponent= int(input(\"Enter the exponent number: \"))\n",
    "output= result.pow_num(user_input, exponent)\n",
    "print(output)\n"
   ]
  },
  {
   "cell_type": "code",
   "execution_count": 36,
   "metadata": {},
   "outputs": [
    {
     "name": "stdout",
     "output_type": "stream",
     "text": [
      ".py hello\n"
     ]
    }
   ],
   "source": [
    "'''\n",
    "7) Write a Python class to reverse a string word by word. \n",
    "Input string : 'hello .py' Expected Output : '.py hello' \n",
    "\n",
    "'''\n",
    "class ReverseString:\n",
    "    def word_by_word(self, string):\n",
    "        words = string.split() \n",
    "        reversed_string = ' '.join(reversed(words))\n",
    "        return reversed_string\n",
    "\n",
    "reverse_string = ReverseString()\n",
    "input_string= 'hello .py'\n",
    "output= reverse_string.word_by_word(input_string)\n",
    "print(output)\n",
    "\n",
    "    "
   ]
  },
  {
   "cell_type": "code",
   "execution_count": 38,
   "metadata": {},
   "outputs": [
    {
     "name": "stdout",
     "output_type": "stream",
     "text": [
      "Reversed string: ahdir\n"
     ]
    }
   ],
   "source": [
    "\n",
    "'''\n",
    "8) Write a python class which has 2 methods get_string and print_string.\n",
    " get_string takes a string from the user an\n",
    " print_string prints the string in reverse order \n",
    "\n",
    "'''\n",
    "class Twomethods:\n",
    "    def get_string(self):\n",
    "        self.input_string = input(\"Enter a string: \")\n",
    "\n",
    "    def print_string(self):\n",
    "        reversed_string= self.input_string[::-1]\n",
    "        print(\"Reversed string:\", reversed_string)\n",
    "\n",
    "string_manipulator = Twomethods()\n",
    "string_manipulator.get_string()\n",
    "string_manipulator.print_string()\n"
   ]
  },
  {
   "cell_type": "code",
   "execution_count": 43,
   "metadata": {},
   "outputs": [
    {
     "name": "stdout",
     "output_type": "stream",
     "text": [
      "Area: 314.0\n",
      "Perimeter: 62.800000000000004\n"
     ]
    }
   ],
   "source": [
    "'''\n",
    "9) Write a Python class named Circle constructed by a radius and two methods which will compute the area and the perimeter of a circle. \n",
    "\n",
    "'''\n",
    "class Circle:\n",
    "    def area(self, radius):\n",
    "        return 3.14 * radius ** 2\n",
    "\n",
    "    def perimeter(self, radius):\n",
    "        return 2 * 3.14 * radius\n",
    "\n",
    "circle= Circle()\n",
    "radius= int(input(\"Enter the radius: \"))\n",
    "print(\"Area:\", circle.area(radius))\n",
    "print(\"Perimeter:\", circle.perimeter(radius))\n",
    "\n",
    "\n"
   ]
  },
  {
   "cell_type": "code",
   "execution_count": 48,
   "metadata": {},
   "outputs": [
    {
     "name": "stdout",
     "output_type": "stream",
     "text": [
      "MyClass\n"
     ]
    }
   ],
   "source": [
    "'''\n",
    "10) Write a Python program to get the class name of an instance in Python.\n",
    "'''\n",
    "\n",
    "class MyClass:\n",
    "   def name(self, name):\n",
    "      return name\n",
    "   \n",
    "a = MyClass()\n",
    "print(type(a).__name__)"
   ]
  },
  {
   "cell_type": "code",
   "execution_count": 51,
   "metadata": {},
   "outputs": [
    {
     "name": "stdout",
     "output_type": "stream",
     "text": [
      "Sum: 25\n",
      "5 x 2: 10\n"
     ]
    }
   ],
   "source": [
    "'''\n",
    "Lambda:  \n",
    "\n",
    "1) Write a Python program to create a lambda function that adds 15 to a given number passed in as an argument, also create a lambda function that multiplies argument x with argument y and print the result.\n",
    " Sample Output: 25 48 \n",
    "'''\n",
    "\n",
    "addition= lambda x: x + 15\n",
    "multiplication = lambda x, y: x * y\n",
    "\n",
    "num=int(input(\"Enter a number for addition: \"))\n",
    "x = int(input(\"Enter x number to multiply: \"))\n",
    "y = int(input(\"Enter y number to multiply: \"))\n",
    "\n",
    "# Calculate and print the results\n",
    "rresult1 = addition(num)\n",
    "result2 = multiplication(x, y)\n",
    "print(\"Sum:\", result1)\n",
    "print(f\"{x} x {y}:\", result2)\n"
   ]
  },
  {
   "cell_type": "code",
   "execution_count": 59,
   "metadata": {},
   "outputs": [
    {
     "name": "stdout",
     "output_type": "stream",
     "text": [
      "Sorted Tuples:  [('Social sciences', 82), ('English', 88), ('Science', 90), ('Maths', 97)]\n"
     ]
    }
   ],
   "source": [
    "'''\n",
    "2) Write a Python program to sort a list of tuples using Lambda. \n",
    "Original list of tuples: [('English', 88), ('Science', 90), ('Maths', 97), ('Social sciences', 82)]\n",
    "Sorting the List of Tuples: [('Social sciences', 82), ('English', 88), ('Science', 90), ('Maths', 97)]\n",
    "'''\n",
    "tuple=[('English', 88), ('Science', 90), ('Maths', 97), ('Social sciences', 82)]\n",
    "sorted_tuple=sorted(tuple, key=lambda x: x[1])\n",
    "print(\"Sorted Tuples: \", sorted_tuple)"
   ]
  },
  {
   "cell_type": "code",
   "execution_count": 60,
   "metadata": {},
   "outputs": [
    {
     "name": "stdout",
     "output_type": "stream",
     "text": [
      "Sorted Tuples:  [{'make': 'Nokia', 'model': 216, 'color': 'Black'}, {'make': 'Samsung', 'model': 7, 'color': 'Blue'}, {'make': 'Mi Max', 'model': '2', 'color': 'Gold'}]\n"
     ]
    }
   ],
   "source": [
    "'''\n",
    "3) Write a Python program to sort a list of dictionaries using Lambda. \n",
    "Original list of dictionaries : [{'make': 'Nokia', 'model': 216, 'color': 'Black'}, {'make': 'Mi Max', 'model': '2', 'color': 'Gold'}, {'make': 'Samsung', 'model': 7, 'color': 'Blue'}] \n",
    "Sorting the List of dictionaries : [{'make': 'Nokia', 'model': 216, 'color': 'Black'}, {'make': 'Samsung', 'model': 7, 'color': 'Blue'}, {'make': 'Mi Max', 'model': '2', 'color': 'Gold'}] \n",
    "\n",
    "'''\n",
    "dictionary= [{'make': 'Nokia', 'model': 216, 'color': 'Black'}, {'make': 'Mi Max', 'model': '2', 'color': 'Gold'}, {'make': 'Samsung', 'model': 7, 'color': 'Blue'}] \n",
    "sorted_dict=sorted(dictionary, key=lambda x: x['color'])\n",
    "print(\"Sorted Tuples: \", sorted_dict)"
   ]
  },
  {
   "cell_type": "code",
   "execution_count": 64,
   "metadata": {},
   "outputs": [
    {
     "name": "stdout",
     "output_type": "stream",
     "text": [
      "The string 'computer' does not start with the character 's'.\n"
     ]
    }
   ],
   "source": [
    "'''\n",
    "4) Write a Python program to find if a given string starts with a given character using Lambda.\n",
    "\n",
    "'''\n",
    "\n",
    "find_char= lambda str,char: str.startswith(char)\n",
    "input_string= input(\"Enter string:\")\n",
    "input_char= input(\"Enter character to find in string :\" )  \n",
    "result= find_char(input_string, input_char)\n",
    "\n",
    "if result:\n",
    "    print(f\"The string '{input_string}' starts with the character '{input_char}'.\")\n",
    "else:\n",
    "    print(f\"The string '{input_string}' does not start with the character '{input_char}'.\")\n",
    "\n"
   ]
  },
  {
   "cell_type": "code",
   "execution_count": 69,
   "metadata": {},
   "outputs": [
    {
     "name": "stdout",
     "output_type": "stream",
     "text": [
      "The string '12.4' is number.\n"
     ]
    }
   ],
   "source": [
    "'''\n",
    "5) Write a Python program to check whether a given string is number or not using Lambda. \n",
    "\n",
    "'''\n",
    "find_num= lambda str: str.replace('.', '', 1).isnumeric()\n",
    "input_string= input(\"Enter string:\")\n",
    "result= find_num (input_string)\n",
    "\n",
    "if result:\n",
    "    print(f\"The string '{input_string}' is number.\")\n",
    "else:\n",
    "    print(f\"The string '{input_string}' not a number.\")\n"
   ]
  },
  {
   "cell_type": "code",
   "execution_count": 71,
   "metadata": {},
   "outputs": [
    {
     "name": "stdout",
     "output_type": "stream",
     "text": [
      "List divisible by nineteen or thirteen: [19, 65, 57, 39, 152, 190]\n"
     ]
    }
   ],
   "source": [
    "'''\n",
    "6)  Write a Python program to find numbers divisible by nineteen or thirteen from a list of numbers using Lambda \n",
    "Orginal list: [19, 65, 57, 39, 152, 639, 121, 44, 90, 190] \n",
    "Numbers of the above list divisible by nineteen or thirteen: [19, 65, 57, 39, 152, 190] \n",
    "\n",
    "'''\n",
    "divisible= lambda x: x % 19 == 0 or x % 13 == 0\n",
    "numbers= [19, 65, 57, 39, 152, 639, 121, 44, 90, 190]\n",
    "divisible_numbers= list(filter(divisible, numbers))\n",
    "print(\"List divisible by nineteen or thirteen:\", divisible_numbers)\n"
   ]
  },
  {
   "cell_type": "code",
   "execution_count": 72,
   "metadata": {},
   "outputs": [
    {
     "name": "stdout",
     "output_type": "stream",
     "text": [
      "Matrix 1: [[1, 2, 3], [2, 4, 5], [1, 1, 1]]\n",
      "Sorted Matrix 1: [[1, 1, 1], [1, 2, 3], [2, 4, 5]]\n",
      "Matrix 2: [[1, 2, 3], [-2, 4, -5], [1, -1, 1]]\n",
      "Sorted Matrix 2: [[-2, 4, -5], [1, -1, 1], [1, 2, 3]]\n"
     ]
    }
   ],
   "source": [
    "'''\n",
    "7) Write a Python program to sort a given matrix in ascending order according to the sum of its rows using lambda. \n",
    "Original Matrix: [[1, 2, 3], [2, 4, 5], [1, 1, 1]] \n",
    "Sort the said matrix in ascending order according to the sum of its rows [[1, 1, 1], [1, 2, 3], [2, 4, 5]]\n",
    " Original Matrix: [[1, 2, 3], [-2, 4, -5], [1, -1, 1]] \n",
    "Sort the said matrix in ascending order according to the sum of its rows [[-2, 4, -5], [1, -1, 1], [1, 2, 3]] \n",
    "\n",
    "'''\n",
    "row_sum= lambda row: sum(row)\n",
    "matrix1= [[1, 2, 3], [2, 4, 5], [1, 1, 1]]\n",
    "matrix2= [[1, 2, 3], [-2, 4, -5], [1, -1, 1]]\n",
    "\n",
    "sorted_matrix1= sorted(matrix1, key=row_sum)\n",
    "sorted_matrix2= sorted(matrix2, key=row_sum)\n",
    "\n",
    "print(\"Matrix 1:\", matrix1)\n",
    "print(\"Sorted Matrix 1:\", sorted_matrix1)\n",
    "print(\"Matrix 2:\", matrix2)\n",
    "print(\"Sorted Matrix 2:\", sorted_matrix2)\n"
   ]
  },
  {
   "cell_type": "code",
   "execution_count": 74,
   "metadata": {},
   "outputs": [
    {
     "name": "stdout",
     "output_type": "stream",
     "text": [
      " Mininmum length: 10 , Input string: PaceWisd0m , Valid string\n"
     ]
    }
   ],
   "source": [
    "'''\n",
    "8) Write a Python program to check whether a given string contains a capital letter, a lower case letter, a number and a minimum length using lambda.\n",
    " Minimum length : 10 input string: PaceWisd0m o/p: valid string \n",
    " \n",
    "'''\n",
    "valid_string= lambda s: any(c.isupper() for c in s) and any(c.islower() for c in s) and any(c.isdigit() for c in s) and len(s) >= 10\n",
    "input_string= input(\"Enter a string: \")\n",
    "\n",
    "if valid_string(input_string):\n",
    "    print(f\" Mininmum length: {len(input_string)} , Input string: {input_string} , Valid string\")\n",
    "else:\n",
    "    print(f\" Mininmum length: {len(input_string)} , Input string: {input_string} , Invalid string\")\n"
   ]
  },
  {
   "cell_type": "code",
   "execution_count": 94,
   "metadata": {},
   "outputs": [
    {
     "name": "stdout",
     "output_type": "stream",
     "text": [
      "Elements containing the substring: ['black']\n"
     ]
    }
   ],
   "source": [
    "'''\n",
    "9) Write a Python program to find the elements of a given list of strings that contain specific substring using lambda. \n",
    "Original list: ['red', 'black', 'white', 'green', 'orange'] \n",
    "Substring to search: ack Elements of the said list that contain specific substring: ['black'] \n",
    "Substring to search: abc Elements of the said list that contain specific substring: [] \n",
    "'''\n",
    "\n",
    "list = ['red', 'black', 'white', 'green', 'orange']\n",
    "substring = input(\"Substring to search: \")\n",
    "filtered_list = [s for s in list if (lambda x: substring in x)(s)]\n",
    "\n",
    "print(\"Elements containing the substring:\", filtered_list)\n",
    "\n"
   ]
  },
  {
   "cell_type": "code",
   "execution_count": 97,
   "metadata": {},
   "outputs": [
    {
     "name": "stdout",
     "output_type": "stream",
     "text": [
      "Sorted mixed list: ['apple', 'banana', 'cherry', 1, 2, 3]\n"
     ]
    }
   ],
   "source": [
    "'''\n",
    "10) Write a Python program to sort a given mixed list of integers and strings using lambda. Numbers must be sorted before strings. \n",
    "Original list: [19, 'red', 12, 'green', 'blue', 10, 'white', 'green', 1] \n",
    "Sort the said mixed list of integers and strings: [1, 10, 12, 19, 'blue', 'green', 'green', 'red', 'white']\n",
    "'''\n",
    "\n",
    "list = [2, 'apple', 1, 'banana', 3, 'cherry']\n",
    "sorted_list = sorted(list, key=lambda x: (isinstance(x, int),x))\n",
    "print(\"Sorted mixed list:\", sorted_list)\n"
   ]
  },
  {
   "cell_type": "code",
   "execution_count": null,
   "metadata": {},
   "outputs": [],
   "source": []
  }
 ],
 "metadata": {
  "kernelspec": {
   "display_name": "base",
   "language": "python",
   "name": "python3"
  },
  "language_info": {
   "codemirror_mode": {
    "name": "ipython",
    "version": 3
   },
   "file_extension": ".py",
   "mimetype": "text/x-python",
   "name": "python",
   "nbconvert_exporter": "python",
   "pygments_lexer": "ipython3",
   "version": "3.9.13"
  }
 },
 "nbformat": 4,
 "nbformat_minor": 2
}
