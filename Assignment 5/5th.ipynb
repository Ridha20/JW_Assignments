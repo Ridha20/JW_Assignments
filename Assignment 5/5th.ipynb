{
 "cells": [
  {
   "cell_type": "code",
   "execution_count": 1,
   "metadata": {},
   "outputs": [
    {
     "name": "stdout",
     "output_type": "stream",
     "text": [
      "5\n"
     ]
    }
   ],
   "source": [
    "#1. Write a Python program to calculate the length of a string.\n",
    "a=input()\n",
    "print(len(a))"
   ]
  },
  {
   "cell_type": "code",
   "execution_count": 4,
   "metadata": {},
   "outputs": [
    {
     "name": "stdout",
     "output_type": "stream",
     "text": [
      "Character frequency in the string:\n",
      "{'g': 2, 'o': 3, 'l': 1, 'e': 1, '.': 1, 'c': 1, 'm': 1}\n"
     ]
    }
   ],
   "source": [
    "''' \n",
    "2. Write a Python program to count the number of characters (character frequency) in a string. \n",
    "#Sample String : google.com'\n",
    "#Expected Result : {'o': 3, 'g': 2, '.': 1, 'e': 1, 'l': 1, 'm': 1, 'c': 1}\n",
    "'''\n",
    "str = input(\"Enter a string: \")\n",
    "char_count = {}\n",
    "\n",
    "for char in str:\n",
    "    if char in char_count:\n",
    "        char_count[char] += 1\n",
    "    else:\n",
    "        char_count[char] = 1\n",
    "\n",
    "print(\"Character frequency in the string:\")\n",
    "print(char_count)\n",
    "\n"
   ]
  },
  {
   "cell_type": "code",
   "execution_count": 106,
   "metadata": {},
   "outputs": [
    {
     "name": "stdout",
     "output_type": "stream",
     "text": [
      "thne\n"
     ]
    }
   ],
   "source": [
    "''' \n",
    "3. Write a Python program to get a string made of the first 2 and the last 2 chars from a given a string.\n",
    "If the string length is less than 2, return instead of the empty string. \n",
    "Sample String : 'thisisniceone'\n",
    "Expected Result : 'thne”'\n",
    "Sample String : 'ab'\n",
    "Expected Result : 'abab'\n",
    "Sample String : 'f'\n",
    "Expected Result : Empty String \n",
    "\n",
    "'''\n",
    "str= input(\"Enter a string: \")\n",
    "length = len(str)\n",
    "if (length < 2):\n",
    "  print('Empty String')\n",
    "else:\n",
    "  print((str[:2]+ str[-2:]))\n",
    "\n"
   ]
  },
  {
   "cell_type": "code",
   "execution_count": 105,
   "metadata": {},
   "outputs": [
    {
     "name": "stdout",
     "output_type": "stream",
     "text": [
      "si$ter\n"
     ]
    }
   ],
   "source": [
    "'''\n",
    "4. Write a Python program to get a string from a given string where all occurrences of its first char have been changed to '$', \n",
    "except the first char itself.\n",
    "Sample String : 'restart'\n",
    "Expected Result : 'resta$t'\n",
    "\n",
    "'''\n",
    "str = input(\"Enter a string: \")\n",
    "first_char, rest_of_string = str [0], str [1:]\n",
    "modified_string = first_char + rest_of_string.replace(first_char, '$')\n",
    "print(modified_string )\n"
   ]
  },
  {
   "cell_type": "code",
   "execution_count": 2,
   "metadata": {},
   "outputs": [
    {
     "name": "stdout",
     "output_type": "stream",
     "text": [
      "Isdha Riha\n"
     ]
    }
   ],
   "source": [
    "'''\n",
    "5. Write a Python program to get a single string from two given strings, separated by a space and swap the first two characters of each string.\n",
    "Sample String : 'abc', 'xyz' \n",
    "Expected Result : 'xyc abz'\n",
    "\n",
    "'''\n",
    "str1 = input(\"Enter first string: \")\n",
    "str2 = input(\"Enter second string: \")\n",
    "s1 = str2[0] + str2[1] + str1[2:]\n",
    "s2 = str1[0] + str1[1] + str2[2:]\n",
    "print(s1 + ' ' + s2)\n",
    "\n"
   ]
  },
  {
   "cell_type": "code",
   "execution_count": 7,
   "metadata": {},
   "outputs": [
    {
     "name": "stdout",
     "output_type": "stream",
     "text": [
      "ab\n"
     ]
    }
   ],
   "source": [
    "'''\n",
    "6. Write a Python program to add 'ing' at the end of a given string (length should be at least 3). If the given string already ends with 'ing' then add 'ly' instead. If the string length of the given string is less than 3, leave it unchanged.\n",
    "Sample String : 'abc'\n",
    "Expected Result : 'abcing' \n",
    "Sample String : 'string'\n",
    "Expected Result : 'stringly'\n",
    "\n",
    "'''\n",
    "\n",
    "str1 = input(\"Enter string: \")\n",
    "str2 = \"ing\"\n",
    "str3=\"ly\"\n",
    "\n",
    "if len(str1) < 3 :\n",
    "    print(str1)\n",
    "elif str1.endswith(str2):\n",
    "    print(str1+str3)\n",
    "else:\n",
    "    print(str1 + str2)\n",
    "\n",
    "\n",
    "\n",
    "\n"
   ]
  },
  {
   "cell_type": "code",
   "execution_count": 23,
   "metadata": {},
   "outputs": [
    {
     "name": "stdout",
     "output_type": "stream",
     "text": [
      "The lyrics is good!\n"
     ]
    }
   ],
   "source": [
    "'''\n",
    "7. Write a Python program to find the first appearance of the substring 'not' and 'poor' from a given string, if 'not' follows the 'poor', replace the whole 'not'...'poor' substring with 'good'. Return the resulting string.\n",
    "Sample String : 'The lyrics is not that poor!'\n",
    "'The lyrics is poor!'\n",
    "Expected Result : 'The lyrics is good!'\n",
    "'The lyrics is poor!'\n",
    "'''\n",
    "s= input(\"Enter sample string: \")\n",
    "index_not = s.find('not')  # Find the index of 'not'\n",
    "index_poor = s.find('poor')\n",
    "if index_not != -1 and index_poor != -1:\n",
    "        if index_not < index_poor:\n",
    "            s = s[:index_not] + 'good' + s[index_poor + len('poor'):]\n",
    "            print(s)\n",
    "else:\n",
    "     print (s)\n"
   ]
  },
  {
   "cell_type": "code",
   "execution_count": 43,
   "metadata": {},
   "outputs": [
    {
     "name": "stdout",
     "output_type": "stream",
     "text": [
      "The length of the longest word in list is:  8\n"
     ]
    }
   ],
   "source": [
    "'''\n",
    "8. Write a Python function that takes a list of words and returns the length of the longest one. \n",
    "'''\n",
    "def longest_word(words):\n",
    "  max_length = 0\n",
    "  for w in words:\n",
    "    if (len(w) > max_length):\n",
    "        max_length = len(w)\n",
    "  return max_length\n",
    "\n",
    "words = [\"horse\", \"cat\", \"elephant\", \"giraffe\"]\n",
    "res= longest_word(words)\n",
    "print(\"The length of the longest word in list is: \",res)\n"
   ]
  },
  {
   "cell_type": "code",
   "execution_count": 104,
   "metadata": {},
   "outputs": [
    {
     "name": "stdout",
     "output_type": "stream",
     "text": [
      "Original String: Computers\n",
      "String after removing character at index 4 : Compters\n"
     ]
    }
   ],
   "source": [
    "'''\n",
    "9. Write a Python program to remove the nth index character from a nonempty string.\n",
    "\n",
    "'''\n",
    "\n",
    "str = input(\"Enter a string: \")\n",
    "n = 4 \n",
    "\n",
    "if 0 <= n < len(str):\n",
    "    new_str = str[:n] + str[n + 1:]\n",
    "    print(\"Original String:\", str)\n",
    "    print(\"String after removing character at index\", n, \":\", new_str)\n",
    "else:\n",
    "    print(f\" Index {n} not present\")\n"
   ]
  },
  {
   "cell_type": "code",
   "execution_count": 56,
   "metadata": {},
   "outputs": [
    {
     "name": "stdout",
     "output_type": "stream",
     "text": [
      "Words in sorted form: black, green, red, white\n"
     ]
    }
   ],
   "source": [
    "'''\n",
    "10. Write a Python program that accepts a comma separated sequence of words as input and prints the unique words in sorted form (alphanumerically). \n",
    "Sample Words : red, white, black, red, green, black\n",
    "Expected Result : black, green, red, white\n",
    "\n",
    "'''\n",
    "s = input(\"Enter words: \")\n",
    "words = s.split(',')\n",
    "unique_words = list(set(word.strip() for word in words))\n",
    "unique_words.sort()\n",
    "output = ', '.join(unique_words)\n",
    "print(\"Words in sorted form:\", output )\n"
   ]
  },
  {
   "cell_type": "code",
   "execution_count": 70,
   "metadata": {},
   "outputs": [
    {
     "name": "stdout",
     "output_type": "stream",
     "text": [
      "String length is not multiple of 4\n"
     ]
    }
   ],
   "source": [
    "'''\n",
    "11. Write a Python function to reverses a string if it's length is a multiple of 4. \n",
    "\n",
    "'''\n",
    "def reverse_string(str):\n",
    "    if len(str)%4==0:\n",
    "        return str[::-1]\n",
    "    else:\n",
    "        print(\"String length is not multiple of 4\")\n",
    "\n",
    "reverse_string('Cats')\n",
    "reverse_string('Kitten')\n"
   ]
  },
  {
   "cell_type": "code",
   "execution_count": 75,
   "metadata": {},
   "outputs": [
    {
     "name": "stdout",
     "output_type": "stream",
     "text": [
      "Output: Ridha\n"
     ]
    }
   ],
   "source": [
    "'''\n",
    "12. Write a Python function to convert a given string to all uppercase if it contains at least 2 uppercase characters in the first\n",
    " 4 characters.\n",
    "'''\n",
    "\n",
    "\n",
    "def convert_to_uppercase(s):\n",
    "    if sum(1 for char in s[:4] if char.isupper()) >= 2:\n",
    "        return s.upper() \n",
    "    else:\n",
    "        return s  \n",
    "\n",
    "s = input(\"Enter a string: \")\n",
    "output = convert_to_uppercase(s)\n",
    "print(\"Output:\", output)\n",
    "  \n"
   ]
  },
  {
   "cell_type": "code",
   "execution_count": 77,
   "metadata": {},
   "outputs": [
    {
     "name": "stdout",
     "output_type": "stream",
     "text": [
      "String does not start with specified characters.\n"
     ]
    }
   ],
   "source": [
    "'''\n",
    "13. Write a Python program to check whether a string starts with specified characters.\n",
    "\n",
    "'''\n",
    "str = input(\"Enter a string: \")\n",
    "specific_char = input(\"Enter the specified characters: \")\n",
    "\n",
    "if str.startswith(specific_char ):\n",
    "    print(\"String starts with specified characters.\")\n",
    "else:\n",
    "    print(\"String does not start with specified characters.\")\n"
   ]
  },
  {
   "cell_type": "code",
   "execution_count": 79,
   "metadata": {},
   "outputs": [
    {
     "name": "stdout",
     "output_type": "stream",
     "text": [
      "3.14\n"
     ]
    }
   ],
   "source": [
    "'''\n",
    "14. Write a Python program to print the following floating numbers upto 2 decimal places.\n",
    "3.1415926\n",
    "'''\n",
    "num= 3.1415926\n",
    "new_num= \"{:.2f}\".format(num)\n",
    "print(new_num)\n"
   ]
  },
  {
   "cell_type": "code",
   "execution_count": 87,
   "metadata": {},
   "outputs": [
    {
     "name": "stdout",
     "output_type": "stream",
     "text": [
      "Repeated characters and their counts:\n",
      "t  2\n",
      "h  2\n",
      "e  3\n",
      "u  2\n",
      "r  2\n",
      "o  4\n"
     ]
    }
   ],
   "source": [
    "'''\n",
    "15. Write a Python program to count repeated characters in a string.\n",
    "Sample string: 'thequickbrownfoxjumpsoverthelazydog'\n",
    "Expected output :\n",
    "o 4\n",
    "e 3\n",
    "u 2\n",
    "h 2\n",
    "r 2\n",
    "t 2\n",
    "'''\n",
    "\n",
    "str = input(\"Enter a string: \")\n",
    "char_counts= {}\n",
    "\n",
    "for char in str:\n",
    "    if char in char_counts:\n",
    "        char_counts[char] += 1\n",
    "    else:\n",
    "        char_counts[char] = 1\n",
    "\n",
    "for char, count in char_counts.items():\n",
    "    if count > 1:\n",
    "        print(f\"{char} \" ,count)\n"
   ]
  },
  {
   "cell_type": "code",
   "execution_count": 81,
   "metadata": {},
   "outputs": [
    {
     "name": "stdout",
     "output_type": "stream",
     "text": [
      "Character 'R' is at index 0\n",
      "Character 'i' is at index 1\n",
      "Character 'd' is at index 2\n",
      "Character 'h' is at index 3\n",
      "Character 'a' is at index 4\n"
     ]
    }
   ],
   "source": [
    "'''\n",
    "16. Write a Python program to print the index of the character in a string.\n",
    "\n",
    "\n",
    "'''\n",
    "str = input(\"Enter a string: \")\n",
    "for index, char in enumerate(str):\n",
    "    print(f\"Character '{char}' is at index {index}\")"
   ]
  },
  {
   "cell_type": "code",
   "execution_count": 83,
   "metadata": {},
   "outputs": [
    {
     "name": "stdout",
     "output_type": "stream",
     "text": [
      "List of characters: ['C', 'o', 'm', 'p', 'u', 't', 'e', 'r']\n"
     ]
    }
   ],
   "source": [
    "'''\n",
    "17. Write a Python program to convert a string in a list.\n",
    "'''\n",
    "str = input(\"Enter a string: \")\n",
    "list1 = list(str)\n",
    "print(\"List of characters:\",list1)\n",
    "\n"
   ]
  },
  {
   "cell_type": "code",
   "execution_count": 103,
   "metadata": {},
   "outputs": [
    {
     "name": "stdout",
     "output_type": "stream",
     "text": [
      "Original String: 32.054,23\n",
      "Swapped Comma: 32,054.23\n"
     ]
    }
   ],
   "source": [
    "'''\n",
    "18. Write a Python program to swap comma and dot in a string.\n",
    "Sample string: \"32.054,23\"\n",
    "Expected Output: \"32,054.23\"\n",
    "\n",
    "'''\n",
    "\n",
    "str = input(\"Enter a string: \")\n",
    "new_str = str.replace(',', ' ').replace('.', ',').replace(' ', '.')\n",
    "print(\"Original String:\", str)\n",
    "print('Swapped Comma:', new_str)\n"
   ]
  },
  {
   "cell_type": "code",
   "execution_count": null,
   "metadata": {},
   "outputs": [],
   "source": [
    "'''\n",
    "19. Write a Python program to find smallest and largest word in a given string.\n",
    "'''\n",
    "\n",
    "\n",
    "str = input(\"Enter a string: \")\n",
    "words = str.split()\n",
    "smallest_word = largest_word = words[0]\n",
    "\n",
    "for w in words:\n",
    "    if len(w) < len(smallest_word):\n",
    "        smallest_word = w\n",
    "    elif len(w) > len(largest_word):\n",
    "        largest_word = w\n",
    "\n",
    "print(\"Smallest word:\", smallest_word)\n",
    "print(\"Largest word:\", largest_word)\n"
   ]
  },
  {
   "cell_type": "code",
   "execution_count": 117,
   "metadata": {},
   "outputs": [
    {
     "name": "stdout",
     "output_type": "stream",
     "text": [
      "String with consecutive duplicates removed: Gramer\n"
     ]
    }
   ],
   "source": [
    "'''\n",
    "20. Write a Python program to remove all consecutive duplicates of a given string.\n",
    "'''\n",
    "str = input(\"Enter a string: \")\n",
    "result = \"\"\n",
    "for char in str:\n",
    "    if char != result[-1:]:\n",
    "        result += char\n",
    "\n",
    "print(\"String with consecutive duplicates removed:\", result)\n",
    "\n"
   ]
  }
 ],
 "metadata": {
  "kernelspec": {
   "display_name": "base",
   "language": "python",
   "name": "python3"
  },
  "language_info": {
   "codemirror_mode": {
    "name": "ipython",
    "version": 3
   },
   "file_extension": ".py",
   "mimetype": "text/x-python",
   "name": "python",
   "nbconvert_exporter": "python",
   "pygments_lexer": "ipython3",
   "version": "3.9.13"
  },
  "orig_nbformat": 4
 },
 "nbformat": 4,
 "nbformat_minor": 2
}
