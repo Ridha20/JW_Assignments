{
 "cells": [
  {
   "cell_type": "code",
   "execution_count": 91,
   "metadata": {},
   "outputs": [
    {
     "ename": "TypeError",
     "evalue": "'dict' object is not callable",
     "output_type": "error",
     "traceback": [
      "\u001b[1;31m---------------------------------------------------------------------------\u001b[0m",
      "\u001b[1;31mTypeError\u001b[0m                                 Traceback (most recent call last)",
      "\u001b[1;32m~\\AppData\\Local\\Temp\\ipykernel_9804\\122388845.py\u001b[0m in \u001b[0;36m<module>\u001b[1;34m\u001b[0m\n\u001b[0;32m      4\u001b[0m \u001b[1;33m\u001b[0m\u001b[0m\n\u001b[0;32m      5\u001b[0m \u001b[0ma\u001b[0m\u001b[1;33m=\u001b[0m\u001b[1;33m{\u001b[0m\u001b[1;34m'apple'\u001b[0m\u001b[1;33m:\u001b[0m \u001b[1;36m3\u001b[0m\u001b[1;33m,\u001b[0m \u001b[1;34m'banana'\u001b[0m\u001b[1;33m:\u001b[0m \u001b[1;36m1\u001b[0m\u001b[1;33m,\u001b[0m \u001b[1;34m'cherry'\u001b[0m\u001b[1;33m:\u001b[0m \u001b[1;36m2\u001b[0m\u001b[1;33m,\u001b[0m \u001b[1;34m'date'\u001b[0m\u001b[1;33m:\u001b[0m \u001b[1;36m4\u001b[0m\u001b[1;33m}\u001b[0m\u001b[1;33m\u001b[0m\u001b[1;33m\u001b[0m\u001b[0m\n\u001b[1;32m----> 6\u001b[1;33m \u001b[0masc\u001b[0m \u001b[1;33m=\u001b[0m \u001b[0mdict\u001b[0m\u001b[1;33m(\u001b[0m\u001b[0msorted\u001b[0m\u001b[1;33m(\u001b[0m\u001b[0ma\u001b[0m\u001b[1;33m.\u001b[0m\u001b[0mitems\u001b[0m\u001b[1;33m(\u001b[0m\u001b[1;33m)\u001b[0m\u001b[1;33m,\u001b[0m\u001b[0mkey\u001b[0m\u001b[1;33m=\u001b[0m \u001b[1;32mlambda\u001b[0m \u001b[0mitem\u001b[0m\u001b[1;33m:\u001b[0m \u001b[0mitem\u001b[0m\u001b[1;33m[\u001b[0m\u001b[1;36m1\u001b[0m\u001b[1;33m]\u001b[0m\u001b[1;33m)\u001b[0m\u001b[1;33m)\u001b[0m\u001b[1;33m\u001b[0m\u001b[1;33m\u001b[0m\u001b[0m\n\u001b[0m\u001b[0;32m      7\u001b[0m \u001b[0mdesc\u001b[0m \u001b[1;33m=\u001b[0m \u001b[0mdict\u001b[0m\u001b[1;33m(\u001b[0m\u001b[0msorted\u001b[0m\u001b[1;33m(\u001b[0m\u001b[0ma\u001b[0m\u001b[1;33m.\u001b[0m\u001b[0mitems\u001b[0m\u001b[1;33m(\u001b[0m\u001b[1;33m)\u001b[0m\u001b[1;33m,\u001b[0m\u001b[0mkey\u001b[0m\u001b[1;33m=\u001b[0m \u001b[1;32mlambda\u001b[0m \u001b[0mitem\u001b[0m\u001b[1;33m:\u001b[0m \u001b[0mitem\u001b[0m\u001b[1;33m[\u001b[0m\u001b[1;36m1\u001b[0m\u001b[1;33m]\u001b[0m\u001b[1;33m,\u001b[0m \u001b[0mreverse\u001b[0m\u001b[1;33m=\u001b[0m\u001b[1;32mTrue\u001b[0m\u001b[1;33m)\u001b[0m\u001b[1;33m)\u001b[0m\u001b[1;33m\u001b[0m\u001b[1;33m\u001b[0m\u001b[0m\n\u001b[0;32m      8\u001b[0m \u001b[0mmy_keys\u001b[0m \u001b[1;33m=\u001b[0m \u001b[0msorted\u001b[0m\u001b[1;33m(\u001b[0m\u001b[0ma\u001b[0m\u001b[1;33m,\u001b[0m \u001b[0mkey\u001b[0m\u001b[1;33m=\u001b[0m\u001b[0ma\u001b[0m\u001b[1;33m.\u001b[0m\u001b[0mget\u001b[0m\u001b[1;33m,\u001b[0m \u001b[0mreverse\u001b[0m\u001b[1;33m=\u001b[0m\u001b[1;32mTrue\u001b[0m\u001b[1;33m)\u001b[0m\u001b[1;33m\u001b[0m\u001b[1;33m\u001b[0m\u001b[0m\n",
      "\u001b[1;31mTypeError\u001b[0m: 'dict' object is not callable"
     ]
    }
   ],
   "source": [
    "''' \n",
    "1. Write a Python script to sort (ascending and descending) a dictionary by value.\n",
    "''' \n",
    "\n",
    "a={'apple': 3, 'banana': 1, 'cherry': 2, 'date': 4}\n",
    "asc = dict(sorted(a.items(),key= lambda item: item[1]))\n",
    "desc = dict(sorted(a.items(),key= lambda item: item[1], reverse=True))\n",
    "print(\"Sorted dictionry in ascending order: \",asc)\n",
    "print(\"Sorted dictionry in descending order: \",desc)"
   ]
  },
  {
   "cell_type": "code",
   "execution_count": 9,
   "metadata": {},
   "outputs": [
    {
     "name": "stdout",
     "output_type": "stream",
     "text": [
      "Dictionary: {0: 10, 1: 20, 2: 30}\n"
     ]
    }
   ],
   "source": [
    "''' \n",
    "2. Write a Python script to add a key to a dictionary.\n",
    "Sample Dictionary : {0: 10, 1: 20}\n",
    "Expected Result : {0: 10, 1: 20, 2: 30}\n",
    "''' \n",
    "a={0: 10, 1: 20}\n",
    "a[2]= 30\n",
    "print(\"Dictionary:\",a)"
   ]
  },
  {
   "cell_type": "code",
   "execution_count": 11,
   "metadata": {},
   "outputs": [
    {
     "name": "stdout",
     "output_type": "stream",
     "text": [
      "{1: 10, 2: 20, 3: 30, 4: 40, 5: 50, 6: 60}\n"
     ]
    }
   ],
   "source": [
    "\n",
    "''' \n",
    "\n",
    "\n",
    "3. Write a Python script to concatenate following dictionaries to create a new one.\n",
    "Sample Dictionary :\n",
    "dic1={1:10, 2:20}\n",
    "dic2={3:30, 4:40}\n",
    "dic3={5:50,6:60}\n",
    "Expected Result : {1: 10, 2: 20, 3: 30, 4: 40, 5: 50, 6: 60}\n",
    "\n",
    "\n",
    "'''\n",
    "dic1={1:10, 2:20}\n",
    "dic2={3:30, 4:40}\n",
    "dic3={5:50,6:60}\n",
    "dic4 = {**dic1,**dic2, **dic3}\n",
    "print(dic4)\n"
   ]
  },
  {
   "cell_type": "code",
   "execution_count": 12,
   "metadata": {},
   "outputs": [
    {
     "name": "stdout",
     "output_type": "stream",
     "text": [
      "4\n",
      "None\n"
     ]
    }
   ],
   "source": [
    "'''\n",
    "4. Write a Python script to check if a given key already exists in a dictionary. \n",
    "\n",
    "'''\n",
    "dic={\"cat\": 4, \"dog\": 5, \"fish\":4, \"parrot\":2}\n",
    "print(dic.get(\"cat\"))\n",
    "print(dic.get(\"reptile\"))"
   ]
  },
  {
   "cell_type": "code",
   "execution_count": 26,
   "metadata": {},
   "outputs": [
    {
     "name": "stdout",
     "output_type": "stream",
     "text": [
      "Key :  a  Value :  1\n",
      "\n",
      "Key :  b  Value :  2\n",
      "\n",
      "Key :  c  Value :  3\n",
      "\n"
     ]
    }
   ],
   "source": [
    "'''\n",
    "5. Write a Python program to iterate over dictionaries using for loops.\n",
    "\n",
    "'''\n",
    "dict1 = {'a': 1, 'b': 2 ,'c':3}\n",
    "for key in dict1:\n",
    "    print(\"Key : \",key,\" Value : \",dict1[key])\n",
    "    print()"
   ]
  },
  {
   "cell_type": "code",
   "execution_count": 35,
   "metadata": {},
   "outputs": [
    {
     "name": "stdout",
     "output_type": "stream",
     "text": [
      "{1: 1, 2: 4, 3: 9, 4: 16, 5: 25}\n"
     ]
    }
   ],
   "source": [
    "'''\n",
    "6. Write a Python script to generate and print a dictionary that contains a number (between 1 and n) in the form (x, x*x). \n",
    "Sample Dictionary ( n = 5) :\n",
    "Expected Output : {1: 1, 2: 4, 3: 9, 4: 16, 5: 25}\n",
    "\n",
    "\n",
    "'''\n",
    "dict={}\n",
    "n=int(input(\"Enter dictionary size\"))\n",
    "for i in range(1, n + 1):\n",
    "    dict[i] = i * i\n",
    "\n",
    "print(dict)\n"
   ]
  },
  {
   "cell_type": "code",
   "execution_count": 37,
   "metadata": {},
   "outputs": [
    {
     "name": "stdout",
     "output_type": "stream",
     "text": [
      "{'a': 1, 'b': 5, 'c': 10, 'd': 8}\n"
     ]
    }
   ],
   "source": [
    "'''\n",
    "7. Write a Python script to merge two Python dictionaries.\n",
    "\n",
    "'''\n",
    "dict1={'a':1,\"b\":5}\n",
    "dict2={\"c\":10, \"d\": 8}\n",
    "dict1.update(dict2)\n",
    "print(dict1)"
   ]
  },
  {
   "cell_type": "code",
   "execution_count": 44,
   "metadata": {},
   "outputs": [
    {
     "name": "stdout",
     "output_type": "stream",
     "text": [
      "Sum all the items in a dictionary : 6\n"
     ]
    }
   ],
   "source": [
    "'''\n",
    "8.  Write a Python program to sum all the items in a dictionary.\n",
    "\n",
    "'''\n",
    "dict1 = {'a': 1, 'b': 2 ,'c':3}\n",
    "sum=0\n",
    "for i in dict1.values():\n",
    "     sum+=i\n",
    "print(\"Sum all the items in a dictionary :\", sum)"
   ]
  },
  {
   "cell_type": "code",
   "execution_count": 48,
   "metadata": {},
   "outputs": [
    {
     "name": "stdout",
     "output_type": "stream",
     "text": [
      "Sum all the items in a dictionary : 50\n"
     ]
    }
   ],
   "source": [
    "'''\n",
    "9. Write a Python program to multiply all the items in a dictionary.\n",
    "\n",
    "'''\n",
    "dict1 = {'a': 5, 'b': 2 ,'c':5}\n",
    "count=1\n",
    "for i in dict1.values():\n",
    "     count*=i\n",
    "print(\"Sum all the items in a dictionary :\", count)"
   ]
  },
  {
   "cell_type": "code",
   "execution_count": 50,
   "metadata": {},
   "outputs": [
    {
     "name": "stdout",
     "output_type": "stream",
     "text": [
      "{'b': 2, 'c': 5}\n"
     ]
    }
   ],
   "source": [
    "'''\n",
    "10. Write a Python program to remove a key from a dictionary. \n",
    "\n",
    "'''\n",
    "dict1 = {'a': 5, 'b': 2 ,'c':5}\n",
    "dict1.pop(\"a\")\n",
    "print(dict1)"
   ]
  },
  {
   "cell_type": "code",
   "execution_count": 53,
   "metadata": {},
   "outputs": [
    {
     "data": {
      "text/plain": [
       "['desktop', 'keyboards', 'mouse']"
      ]
     },
     "execution_count": 53,
     "metadata": {},
     "output_type": "execute_result"
    }
   ],
   "source": [
    "'''\n",
    "11. Write a Python program to sort a dictionary by key.\n",
    "\n",
    "'''\n",
    "dict1 = { \"keyboards\" :12, \"mouse\":18 ,\"desktop\":5} \n",
    "sorted(dict1.keys())"
   ]
  },
  {
   "cell_type": "code",
   "execution_count": 57,
   "metadata": {},
   "outputs": [
    {
     "name": "stdout",
     "output_type": "stream",
     "text": [
      "maximum value:  mouse\n",
      "manimum value:  desktop\n"
     ]
    }
   ],
   "source": [
    "'''\n",
    "12. Write a Python program to get the maximum and minimum value in a dictionary. \n",
    "\n",
    "'''\n",
    "dict1= { \"keyboards\" :12, \"mouse\":18 ,\"desktop\":5} \n",
    "print(\"maximum value: \", max(dict1.keys()))\n",
    "print(\"manimum value: \", min(dict1.keys()))"
   ]
  },
  {
   "cell_type": "code",
   "execution_count": 59,
   "metadata": {},
   "outputs": [
    {
     "name": "stdout",
     "output_type": "stream",
     "text": [
      "{'Python': 19, 'R': 5, 'C#': 8}\n"
     ]
    }
   ],
   "source": [
    "'''\n",
    "13. Write a Python program to remove duplicates from Dictionary.\n",
    "\n",
    "'''\n",
    "course= {'Python' : 5 , 'R': 5 , 'C#': 8 , 'Python' :19 }\n",
    "new_dict= {}\n",
    "\n",
    "for key, value in course.items():\n",
    "    new_dict[key] = value \n",
    "    \n",
    "print(new_dict)"
   ]
  },
  {
   "cell_type": "code",
   "execution_count": 63,
   "metadata": {},
   "outputs": [
    {
     "name": "stdout",
     "output_type": "stream",
     "text": [
      "Dictionary is Not Empty\n",
      "Dictionary is Empty\n"
     ]
    }
   ],
   "source": [
    "'''\n",
    "14. Write a Python program to check a dictionary is empty or not. \n",
    "\n",
    "\n",
    "'''\n",
    "dict1= {'apple': 3, 'banana': 1, 'cherry': 2, 'date': 4}\n",
    "if (len(dict1) == 0):\n",
    "    print (\"Dictionary is Empty\")\n",
    "else:\n",
    "    print (\"Dictionary is Not Empty\")\n",
    "    \n",
    "dict2={}\n",
    "if (len(dict2) == 0):\n",
    "    print (\"Dictionary is Empty\")\n",
    "else:\n",
    "    print (\"Dictionary is Not Empty\")"
   ]
  },
  {
   "cell_type": "code",
   "execution_count": 77,
   "metadata": {},
   "outputs": [
    {
     "name": "stdout",
     "output_type": "stream",
     "text": [
      "{'a': 400, 'b': 400, 'c': 300, 'd': 400}\n"
     ]
    }
   ],
   "source": [
    "'''\n",
    "15. Write a Python program to combine two dictionary adding values for common keys.\n",
    "d1 = {'a': 100, 'b': 200, 'c':300}\n",
    "d2 = {'a': 300, 'b': 200, 'd':400}\n",
    "Sample output: Counter({'a': 400, 'b': 400, 'd': 400, 'c': 300})\n",
    "\n",
    "\n",
    "'''\n",
    "d1 = {'a': 100, 'b': 200, 'c':300}\n",
    "d2 = {'a': 300, 'b': 200, 'd':400}\n",
    "\n",
    "\n",
    "for key in d2 :\n",
    "    if key in d1 :\n",
    "        d1[key] = d1[key] +d2[key]\n",
    "    else :\n",
    "        d1[key] = d2[key]\n",
    "print(d1)\n",
    "\n",
    "\n"
   ]
  },
  {
   "cell_type": "code",
   "execution_count": 90,
   "metadata": {},
   "outputs": [
    {
     "name": "stdout",
     "output_type": "stream",
     "text": [
      "{'mouse': 18, 'keyboards': 12, 'desktop': 5}\n"
     ]
    }
   ],
   "source": [
    "'''\n",
    "16. Write a Python program to find the highest 3 values in a dictionary.\n",
    "\n",
    "'''\n",
    "dict1= { \"keyboards\" :12, \"mouse\":18 ,\"desktop\":5 , \"cable\":2, \"router\":4} \n",
    "my_keys = sorted(dict1, key=dict1.get, reverse=True)\n",
    "dict_new = {}\n",
    "\n",
    "for key in my_keys[:3]:\n",
    "    dict_new[key] = dict1[key]\n",
    "\n",
    "print(dict_new)\n"
   ]
  },
  {
   "cell_type": "code",
   "execution_count": 103,
   "metadata": {},
   "outputs": [
    {
     "name": "stdout",
     "output_type": "stream",
     "text": [
      "key1: 1 is present in both x and y\n"
     ]
    }
   ],
   "source": [
    "'''\n",
    "17. Write a Python program to match key values in two dictionaries.\n",
    "Sample dictionary: {'key1': 1, 'key2': 3, 'key3': 2}, {'key1': 1, 'key2': 2}\n",
    "Expected output: key1: 1 is present in both x and y\n",
    "\n",
    "'''\n",
    "x = { 'key1': 1, 'key2': 3, 'key3': 2 }\n",
    "y= {'key1': 1, 'key2': 2}\n",
    "for key in x and y:\n",
    "    if(x[key] == y[key]):\n",
    "        print (f'{key}: {x[key]} is present in both x and y')\n",
    "     \n"
   ]
  },
  {
   "cell_type": "code",
   "execution_count": 114,
   "metadata": {},
   "outputs": [
    {
     "name": "stdout",
     "output_type": "stream",
     "text": [
      "List 1 True\n",
      "List 2 False\n"
     ]
    }
   ],
   "source": [
    "'''\n",
    "18. Write a Python program to check if all dictionaries in a list are empty or not.\n",
    "Sample list : [{},{},{}]\n",
    "Return value : True\n",
    "Sample list : [{1,2},{},{}]\n",
    "Return value : False\n",
    "\n",
    "'''\n",
    "list1 = [{}, {}, {}]\n",
    "list2 = [{1: 2}, {}, {}]\n",
    "def is_empty(lst):\n",
    "    for i in lst:\n",
    "        if len(i) != 0:\n",
    "            return False\n",
    "        else:\n",
    "            return True\n",
    "        \n",
    "print(\"List 1\",is_empty(list1))\n",
    "print(\"List 2\",is_empty(list2))\n",
    "\n"
   ]
  },
  {
   "cell_type": "code",
   "execution_count": 115,
   "metadata": {},
   "outputs": [
    {
     "name": "stdout",
     "output_type": "stream",
     "text": [
      "New List: [[10, 20], [40], [30, 56, 25], [33]]\n"
     ]
    }
   ],
   "source": [
    "'''\n",
    "19. Write a Python program to remove duplicates from a list of lists.\n",
    "Sample list : [[10, 20], [40], [30, 56, 25], [10, 20], [33], [40]]\n",
    "New List : [[10, 20], [30, 56, 25], [33], [40]]\n",
    "\n",
    "'''\n",
    "\n",
    "list1 = [[10, 20], [40], [30, 56, 25], [10, 20], [33], [40]]\n",
    "new_list = []\n",
    "\n",
    "for i in list1:\n",
    "    if i not in new_list:\n",
    "        new_list.append(i)\n",
    "        \n",
    "print(\"New List:\", new_list)\n",
    "\n"
   ]
  },
  {
   "cell_type": "code",
   "execution_count": 116,
   "metadata": {},
   "outputs": [
    {
     "name": "stdout",
     "output_type": "stream",
     "text": [
      "[10, 40, 2, 30, 77, 3, 15]\n"
     ]
    }
   ],
   "source": [
    "'''\n",
    "20. Write a Python program to extend a list without append.\n",
    "Sample data: [10, 20, 30]\n",
    "[40, 50, 60]\n",
    "Expected output : [40, 50, 60, 10, 20, 30]\n",
    "'''\n",
    "\n",
    "l1=[10,40,2]\n",
    "l2=[30,77,3,15]\n",
    "l3=l1+l2\n",
    "print(l3)"
   ]
  }
 ],
 "metadata": {
  "kernelspec": {
   "display_name": "base",
   "language": "python",
   "name": "python3"
  },
  "language_info": {
   "codemirror_mode": {
    "name": "ipython",
    "version": 3
   },
   "file_extension": ".py",
   "mimetype": "text/x-python",
   "name": "python",
   "nbconvert_exporter": "python",
   "pygments_lexer": "ipython3",
   "version": "3.9.13"
  }
 },
 "nbformat": 4,
 "nbformat_minor": 2
}
