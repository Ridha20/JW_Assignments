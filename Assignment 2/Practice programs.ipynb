{
 "cells": [
  {
   "cell_type": "code",
   "execution_count": 12,
   "metadata": {},
   "outputs": [
    {
     "name": "stdout",
     "output_type": "stream",
     "text": [
      "The first and last indices are [0, 0]\n"
     ]
    }
   ],
   "source": [
    "#Finding First and Last index of target element in the sorted array\n",
    "def find_start(arr, target):\n",
    "    if arr[0] == target:\n",
    "        return 0\n",
    "    left, right = 0, len(arr) - 1\n",
    "    while left <= right:\n",
    "        mid = (left + right) // 2\n",
    "        if arr[mid] == target and (mid == 0 or arr[mid - 1] < target):\n",
    "            return mid\n",
    "        elif arr[mid] < target:\n",
    "            left = mid + 1\n",
    "        else:\n",
    "            right = mid - 1\n",
    "    return -1\n",
    "\n",
    "def find_end(arr, target):\n",
    "    if arr[-1] == target:\n",
    "        return len(arr) - 1\n",
    "    left, right = 0, len(arr) - 1\n",
    "    while left <= right:\n",
    "        mid = (left + right) // 2\n",
    "        if arr[mid] == target and (mid == len(arr) - 1 or arr[mid + 1] > target):\n",
    "            return mid\n",
    "        elif arr[mid] > target:\n",
    "            right = mid - 1\n",
    "        else:\n",
    "            left = mid + 1\n",
    "    return -1\n",
    "\n",
    "def first_and_last(arr, target):\n",
    "    if len(arr) == 0 or arr[0] > target or arr[-1] < target:\n",
    "        return [-1, -1]\n",
    "    start = find_start(arr, target)\n",
    "    end = find_end(arr, target)\n",
    "    return [start, end]\n",
    "\n",
    "arr = [2, 3, 5, 7, 19] \n",
    "target = 2\n",
    "print(\"The first and last indices are\", first_and_last(arr, target))\n"
   ]
  },
  {
   "cell_type": "code",
   "execution_count": 3,
   "metadata": {},
   "outputs": [
    {
     "name": "stdout",
     "output_type": "stream",
     "text": [
      "K'th Largest element is 19\n"
     ]
    }
   ],
   "source": [
    "#Finding the kth Largest Element \n",
    "def kthlargest(arr, k):\n",
    "    for i in range(k-1):\n",
    "        arr.remove(max(arr))\n",
    "    return max(arr)\n",
    " \n",
    " \n",
    "arr = [12, 3, 5, 7, 19]\n",
    "k=1\n",
    "print(\"K'th Largest element is\",\n",
    "          kthlargest(arr,k))"
   ]
  },
  {
   "cell_type": "code",
   "execution_count": 19,
   "metadata": {},
   "outputs": [
    {
     "name": "stdout",
     "output_type": "stream",
     "text": [
      "The tree is symmetric.\n"
     ]
    }
   ],
   "source": [
    "#Checking if a tree is symmetric or not\n",
    "\n",
    "class TreeNode:\n",
    "    def __init__(self, val=0, left=None, right=None):\n",
    "        self.val = val\n",
    "        self.left = left\n",
    "        self.right = right\n",
    "\n",
    "\n",
    "def are_symmetric(root1, root2):\n",
    "     if root1 is None and root2 is None:\n",
    "          return True\n",
    "     elif ((root1 is None) != (root2 is None)) or root1.val != root2.val:\n",
    "              return False\n",
    "     else:\n",
    "         return are_symmetric(root1.left, root2.right) and are_symmetric(root1.right, root2.left)\n",
    "\n",
    "def is_symmetric(root): \n",
    "      if root is None:\n",
    "            return True\n",
    "      return are_symmetric(root.left, root.right)\n",
    "\n",
    "\n",
    "root = TreeNode(1)\n",
    "root.left = TreeNode(2)\n",
    "root.right = TreeNode(2)\n",
    "root.left.left = TreeNode(3)\n",
    "root.left.right = TreeNode(4)\n",
    "root.right.left = TreeNode(4)\n",
    "root.right.right = TreeNode(3)\n",
    "\n",
    "is_symmetric_result = is_symmetric(root)\n",
    "\n",
    "if is_symmetric_result:\n",
    "    print(\"The tree is symmetric.\")\n",
    "else:\n",
    "    print(\"The tree is not symmetric.\")\n",
    "\n",
    "\n"
   ]
  },
  {
   "cell_type": "code",
   "execution_count": 22,
   "metadata": {},
   "outputs": [
    {
     "name": "stdout",
     "output_type": "stream",
     "text": [
      "['((()))', '(()())', '(())()', '()(())', '()()()']\n"
     ]
    }
   ],
   "source": [
    "#program to generate parenthesis\n",
    "def generate(n):\n",
    "    def rec(n, diff, comb, combs):\n",
    "        if diff < 0 or diff > n:\n",
    "            return\n",
    "        elif n == 0:\n",
    "            if diff == 0:\n",
    "                combs.append(''.join(comb))\n",
    "        else:\n",
    "            comb.append('(')\n",
    "            rec(n - 1, diff + 1, comb, combs)\n",
    "            comb.pop()\n",
    "            comb.append(')')\n",
    "            rec(n - 1, diff - 1, comb, combs)\n",
    "            comb.pop()\n",
    "\n",
    "    combs = []\n",
    "    rec(2 * n, 0, [], combs)\n",
    "    return combs\n",
    "\n",
    "n = 3 \n",
    "result = generate(n)\n",
    "print(result)\n"
   ]
  },
  {
   "cell_type": "code",
   "execution_count": null,
   "metadata": {},
   "outputs": [
    {
     "name": "stdout",
     "output_type": "stream",
     "text": [
      "Element is present at index 4\n"
     ]
    }
   ],
   "source": [
    "#Binary search\n",
    "def binary_search(l, n):  \n",
    "    low = 0  \n",
    "    high = len(l) - 1  \n",
    "    mid = 0  \n",
    "  \n",
    "    while low <= high:  \n",
    "        mid = (high + low) \n",
    "        if l[mid] < n:  \n",
    "            low = mid + 1  \n",
    "  \n",
    "        elif l[mid] > n:  \n",
    "            high = mid - 1  \n",
    "    \n",
    "        else:  \n",
    "            return mid  \n",
    "    return -1  \n",
    "    \n",
    "l = [4, 20, 17, 43, 7, 33, 32]  \n",
    "n = 4\n",
    "   \n",
    "result = binary_search(l, n)  \n",
    "  \n",
    "if result != -1:  \n",
    "    print(\"Element is present at index\", str(result))  \n",
    "else:  \n",
    "    print(\"Element is not present in list\") "
   ]
  },
  {
   "cell_type": "code",
   "execution_count": 1,
   "metadata": {},
   "outputs": [
    {
     "name": "stdout",
     "output_type": "stream",
     "text": [
      "'Ridha' is not a palindrome.\n"
     ]
    }
   ],
   "source": [
    "#program to check if string is palindrome or not\n",
    "def is_palindrome(s):\n",
    "    s = s.replace(\" \", \"\").lower()\n",
    "    return s == s[::-1]\n",
    "\n",
    "\n",
    "str= input(\"Enter a word or phrase: \")\n",
    "\n",
    "if is_palindrome(str):\n",
    "    print(f\"'{str}' is a palindrome!\")\n",
    "else:\n",
    "    print(f\"'{str}' is not a palindrome.\")\n"
   ]
  },
  {
   "cell_type": "code",
   "execution_count": 2,
   "metadata": {},
   "outputs": [
    {
     "name": "stdout",
     "output_type": "stream",
     "text": [
      "Fibonacci Series is:\n",
      "[0, 1, 1, 2, 3, 5, 8, 13, 21, 34]\n"
     ]
    }
   ],
   "source": [
    "#program to create fibonacci series\n",
    "def fibonacci(n):\n",
    "    fib_ser = []\n",
    "    a, b = 0, 1\n",
    "    \n",
    "    while len(fib_ser) < n:\n",
    "        fib_ser.append(a)\n",
    "        a, b = b, a + b\n",
    "    \n",
    "    return fib_ser\n",
    "\n",
    "n = int(input(\"Enter the number of Fibonacci numbers to generate: \"))\n",
    "\n",
    "if n <= 0:\n",
    "    print(\"Enter a positive number.\")\n",
    "else:\n",
    "    result = fibonacci(n)\n",
    "    print(\"Fibonacci Series is:\")\n",
    "    print(result)\n"
   ]
  }
 ],
 "metadata": {
  "kernelspec": {
   "display_name": "base",
   "language": "python",
   "name": "python3"
  },
  "language_info": {
   "codemirror_mode": {
    "name": "ipython",
    "version": 3
   },
   "file_extension": ".py",
   "mimetype": "text/x-python",
   "name": "python",
   "nbconvert_exporter": "python",
   "pygments_lexer": "ipython3",
   "version": "3.9.13"
  },
  "orig_nbformat": 4
 },
 "nbformat": 4,
 "nbformat_minor": 2
}
