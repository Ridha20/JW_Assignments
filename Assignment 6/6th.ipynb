{
 "cells": [
  {
   "cell_type": "code",
   "execution_count": 1,
   "metadata": {},
   "outputs": [
    {
     "name": "stdout",
     "output_type": "stream",
     "text": [
      "Numbers divisible by 7 and multiple of 5 are:\n",
      "[1505, 1540, 1575, 1610, 1645, 1680, 1715, 1750, 1785, 1820, 1855, 1890, 1925, 1960, 1995, 2030, 2065, 2100, 2135, 2170, 2205, 2240, 2275, 2310, 2345, 2380, 2415, 2450, 2485, 2520, 2555, 2590, 2625, 2660, 2695]\n"
     ]
    }
   ],
   "source": [
    "''' \n",
    "1. Write a Python program to find those numbers which are divisible by 7 and multiple of 5, between 1500 and 2700 (both included)\n",
    "'''\n",
    "\n",
    "List = []\n",
    "for i in range(1500, 2701):\n",
    "    if i % 7 == 0 and i % 5 == 0:\n",
    "        List.append(i)\n",
    "\n",
    "print(\"Numbers divisible by 7 and multiple of 5 are:\")\n",
    "print(List )\n"
   ]
  },
  {
   "cell_type": "code",
   "execution_count": 2,
   "metadata": {},
   "outputs": [
    {
     "name": "stdout",
     "output_type": "stream",
     "text": [
      "0\n",
      "1\n",
      "2\n",
      "4\n",
      "5\n"
     ]
    }
   ],
   "source": [
    "''' \n",
    "2. Write a Python program that prints all the numbers from 0 to 6 except 3 and 6.\n",
    "Note : Use 'continue' statement.\n",
    "Expected Output : 0 1 2 4 5\n",
    "\n",
    "'''\n",
    "for i in range(7):\n",
    "    if i == 3 or i == 6:\n",
    "        continue \n",
    "    print(i)  # Print the number\n",
    "\n",
    "\n"
   ]
  },
  {
   "cell_type": "code",
   "execution_count": 6,
   "metadata": {},
   "outputs": [
    {
     "name": "stdout",
     "output_type": "stream",
     "text": [
      "1\n",
      "2\n",
      "Fizz\n",
      "4\n",
      "Buzz\n",
      "Fizz\n",
      "7\n",
      "8\n",
      "Fizz\n",
      "Buzz\n",
      "11\n",
      "Fizz\n",
      "13\n",
      "14\n",
      "FizzBuzz\n",
      "16\n",
      "17\n",
      "Fizz\n",
      "19\n",
      "Buzz\n",
      "Fizz\n",
      "22\n",
      "23\n",
      "Fizz\n",
      "Buzz\n",
      "26\n",
      "Fizz\n",
      "28\n",
      "29\n",
      "FizzBuzz\n",
      "31\n",
      "32\n",
      "Fizz\n",
      "34\n",
      "Buzz\n",
      "Fizz\n",
      "37\n",
      "38\n",
      "Fizz\n",
      "Buzz\n",
      "41\n",
      "Fizz\n",
      "43\n",
      "44\n",
      "FizzBuzz\n",
      "46\n",
      "47\n",
      "Fizz\n",
      "49\n"
     ]
    }
   ],
   "source": [
    "''' \n",
    "3. Write a Python program which iterates the integers from 1 to 50. For multiples of three print \"Fizz\" instead of the number and for the multiples of five print \"Buzz\". For numbers which are multiples of both three and five print \"FizzBuzz\".\n",
    "Sample Output :\n",
    "fizzbuzz\n",
    "1\n",
    "2\n",
    "fizz\n",
    "4\n",
    "Buzz\n",
    "\n",
    "'''\n",
    "for i in range(1, 50):\n",
    "      if i % 3 == 0 and i % 5 == 0:\n",
    "        print(\"FizzBuzz\")\n",
    "      elif i % 3 == 0:\n",
    "        print(\"Fizz\")\n",
    "      elif i % 5 == 0:\n",
    "        print(\"Buzz\")\n",
    "      else:\n",
    "        print(i)\n",
    "\n",
    "\n",
    "\n",
    "\n",
    "\n"
   ]
  },
  {
   "cell_type": "code",
   "execution_count": 7,
   "metadata": {},
   "outputs": [
    {
     "name": "stdout",
     "output_type": "stream",
     "text": [
      "It is a scalene triangle.\n"
     ]
    }
   ],
   "source": [
    "''' \n",
    "4. Write a Python program to check a triangle is equilateral, isosceles or scalene.\n",
    "Note :\n",
    "An equilateral triangle is a triangle in which all three sides are equal.\n",
    "A scalene triangle is a triangle that has three unequal sides.\n",
    "An isosceles triangle is a triangle with two equal sides.\n",
    "Expected Output:\n",
    "Input lengths of the triangle sides:                                    \n",
    "x: 6                                                                    \n",
    "y: 8                                                                    \n",
    "z: 12                                                                   \n",
    "Scalene triangle \n",
    "\n",
    "'''\n",
    "x = int(input(\"Enter length of side x: \"))\n",
    "y = int(input(\"Enter length of side y: \"))\n",
    "z = int(input(\"Enter length of side z: \"))\n",
    "\n",
    "if x == y == z:\n",
    "    print(\"It is an equilateral triangle.\")\n",
    "elif x == y or y == z or z == x:\n",
    "    print(\"It is an isosceles triangle.\")\n",
    "else:\n",
    "    print(\"It is a scalene triangle.\")\n",
    "\n",
    "\n",
    "\n",
    "\n",
    "\n",
    "                                                                                                                                                                                                                                                "
   ]
  },
  {
   "cell_type": "code",
   "execution_count": 55,
   "metadata": {},
   "outputs": [
    {
     "name": "stdout",
     "output_type": "stream",
     "text": [
      "Entered numbers: 12\n",
      "Entered numbers: 13\n",
      "Entered numbers: 12\n",
      "Entered numbers: 0\n",
      "Sum of the entered numbers: 37\n",
      "Average of the entered numbers: 12.333333333333334\n"
     ]
    }
   ],
   "source": [
    "''' \n",
    "5. Write a Python program to calculate the sum and average of n integer numbers (input from the user). Input 0 to finish\n",
    "\n",
    "'''\n",
    "sum= 0\n",
    "n = 0\n",
    "\n",
    "while True:\n",
    "    num = int(input(\"Enter an integer number (press 0 to finish): \"))\n",
    "    print(\"Entered numbers:\", num)\n",
    "    if num == 0:\n",
    "        break\n",
    "\n",
    "    sum+= num\n",
    "    n+= 1\n",
    "\n",
    "if n > 0:\n",
    "    average = sum / n\n",
    "else:\n",
    "    average = 0\n",
    "\n",
    "\n",
    "print(\"Sum of the entered numbers:\", sum)\n",
    "print(\"Average of the entered numbers:\", average)\n",
    "\n",
    "\n"
   ]
  },
  {
   "cell_type": "code",
   "execution_count": 20,
   "metadata": {},
   "outputs": [
    {
     "name": "stdout",
     "output_type": "stream",
     "text": [
      "\n",
      "1\n",
      "22\n",
      "333\n",
      "4444\n",
      "55555\n",
      "666666\n",
      "7777777\n",
      "88888888\n",
      "999999999\n"
     ]
    }
   ],
   "source": [
    "''' \n",
    "6. Write a Python program to construct the following pattern, using a nested loop number.\n",
    "1\n",
    "22\n",
    "333\n",
    "4444\n",
    "55555\n",
    "666666\n",
    "7777777\n",
    "88888888\n",
    "999999999\n",
    "\n",
    "'''\n",
    "\n",
    "for i in range (10):\n",
    "    for j in range(i):\n",
    "        print(i, end=\"\")\n",
    "    print()\n",
    "\n",
    "   \n"
   ]
  },
  {
   "cell_type": "code",
   "execution_count": 22,
   "metadata": {},
   "outputs": [
    {
     "name": "stdout",
     "output_type": "stream",
     "text": [
      "Number of elements greater than 30: 1\n"
     ]
    }
   ],
   "source": [
    "''' \n",
    "7. Write a Python program that counts the number of elements within a list that are greater than 30.\n",
    "\n",
    "'''\n",
    "List = [10,15,20,25,30,35]\n",
    "count = 0\n",
    "for i in List:\n",
    "    if i> 30:\n",
    "        count += 1\n",
    "\n",
    "print(\"Number of elements greater than 30:\", count)\n",
    "\n",
    "\n"
   ]
  },
  {
   "cell_type": "code",
   "execution_count": 23,
   "metadata": {},
   "outputs": [
    {
     "name": "stdout",
     "output_type": "stream",
     "text": [
      "The given Rectangle is Square\n"
     ]
    }
   ],
   "source": [
    "''' \n",
    "8. Take values of length and breadth of a rectangle from user and check if it is square or not.\n",
    "'''\n",
    "\n",
    "x=int(input(\"Enter length: \"))\n",
    "y=int(input(\"Enter breadth: \"))\n",
    "if x==y :\n",
    "    print (\"The given Rectangle is Square\")  \n",
    "else:\n",
    "    print (\"The given Rectangle is not a Square\")\n"
   ]
  },
  {
   "cell_type": "code",
   "execution_count": 25,
   "metadata": {},
   "outputs": [
    {
     "name": "stdout",
     "output_type": "stream",
     "text": [
      "Total cost: 108000.0\n"
     ]
    }
   ],
   "source": [
    "''' \n",
    "9. A shop will give discount of 10% if the cost of purchased quantity is more than 1000.\n",
    "Ask user for quantity\n",
    "Suppose, one unit will cost 100.\n",
    "Judge and print total cost for user.\n",
    "\n",
    "'''\n",
    "unit_cost= 100\n",
    "quantity = int(input(\"Enter quantity of units: \"))\n",
    "total_cost = quantity * unit_cost\n",
    "if total_cost > 1000:\n",
    "    discount = 0.10 * total_cost\n",
    "    total_cost -= discount\n",
    "\n",
    "print(\"Total cost:\", total_cost)\n",
    "\n"
   ]
  },
  {
   "cell_type": "code",
   "execution_count": 29,
   "metadata": {},
   "outputs": [
    {
     "name": "stdout",
     "output_type": "stream",
     "text": [
      "Net bonus amount:  200.0\n"
     ]
    }
   ],
   "source": [
    "''' \n",
    "10. A company decided to give bonus of 5% to employee if his/her year of service is more than 5 years.\n",
    "Ask user for their salary and year of service and print the net bonus amount.\n",
    "\n",
    "'''\n",
    "Salary= int(input(\"Enter salary: \"))\n",
    "Yr= int(input(\"Enter year of service: \"))\n",
    "\n",
    "if Yr> 5:\n",
    "    bonus = 0.05 * Salary\n",
    "    print(\"Net bonus amount: \",bonus )\n",
    "  \n"
   ]
  },
  {
   "cell_type": "code",
   "execution_count": 30,
   "metadata": {},
   "outputs": [
    {
     "name": "stdout",
     "output_type": "stream",
     "text": [
      "D\n"
     ]
    }
   ],
   "source": [
    "''' \n",
    "11. A school has following rules for grading system:\n",
    "a. Below 25 - F\n",
    "b. 25 to 45 - E\n",
    "c. 45 to 50 - D\n",
    "d. 50 to 60 - C\n",
    "e. 60 to 80 - B\n",
    "f. Above 80 - A\n",
    "Ask user to enter marks and print the corresponding grade.\n",
    "\n",
    "'''\n",
    "\n",
    "Marks= int(input(\"Enter Marks: \"))\n",
    "if (Marks<25):\n",
    "    print('F')\n",
    "elif ((Marks>=25)and(Marks<=45)):\n",
    "    print ('E')\n",
    "elif((Marks>45)and(Marks<=50)):\n",
    "    print (\"D\")\n",
    "elif((Marks>50)and(Marks<=60)):\n",
    "    print (\"C\")\n",
    "elif((Marks>60)and(Marks<=79)):\n",
    "    print (\"B\")\n",
    "else :\n",
    "    print (\"A\")\n"
   ]
  },
  {
   "cell_type": "code",
   "execution_count": 32,
   "metadata": {},
   "outputs": [
    {
     "name": "stdout",
     "output_type": "stream",
     "text": [
      "Student cannot sit in exam\n"
     ]
    }
   ],
   "source": [
    "''' \n",
    "12. A student will not be allowed to sit in exam if his/her attendence is less than 75%.\n",
    "Take following input from user\n",
    "Number of classes held\n",
    "Number of classes attended.\n",
    "And print\n",
    "percentage of class attended\n",
    "Is student is allowed to sit in exam or not.\n",
    "\n",
    "'''\n",
    "Num_class_held= int(input(\"Enter number of classes held: \"))\n",
    "Num_class_attend= int(input(\"Enter number of classes attended: \"))\n",
    "Percentage = ( Num_class_attend / Num_class_held ) * 100\n",
    "if Percentage >=  75 :\n",
    "    print (\"Student can sit in exam\")\n",
    "else:\n",
    "    print (\"Student cannot sit in exam\")\n"
   ]
  },
  {
   "cell_type": "code",
   "execution_count": 34,
   "metadata": {},
   "outputs": [
    {
     "name": "stdout",
     "output_type": "stream",
     "text": [
      "Average of the 10 integers: 5.7\n"
     ]
    }
   ],
   "source": [
    "''' \n",
    "13. Take 10 integers from keyboard using loop and print their average value on the screen.\n",
    "\n",
    "'''\n",
    "sum = 0\n",
    "for i in range(10):\n",
    "    num = int(input(f\"Enter integer {i + 1}: \"))\n",
    "    sum += num\n",
    "\n",
    "average = sum/10\n",
    "print(\"Average of the 10 integers:\", average)\n",
    "\n"
   ]
  },
  {
   "cell_type": "code",
   "execution_count": 46,
   "metadata": {},
   "outputs": [
    {
     "name": "stdout",
     "output_type": "stream",
     "text": [
      "Multiplication table of 24:\n",
      "24 x 0 = 0\n",
      "24 x 1 = 24\n",
      "24 x 2 = 48\n",
      "24 x 3 = 72\n",
      "24 x 4 = 96\n",
      "24 x 5 = 120\n",
      "24 x 6 = 144\n",
      "24 x 7 = 168\n",
      "24 x 8 = 192\n",
      "24 x 9 = 216\n",
      "\n",
      "Multiplication table of 50:\n",
      "50 x 0 = 0\n",
      "50 x 1 = 50\n",
      "50 x 2 = 100\n",
      "50 x 3 = 150\n",
      "50 x 4 = 200\n",
      "50 x 5 = 250\n",
      "50 x 6 = 300\n",
      "50 x 7 = 350\n",
      "50 x 8 = 400\n",
      "50 x 9 = 450\n",
      "\n",
      "Multiplication table of 29:\n",
      "29 x 0 = 0\n",
      "29 x 1 = 29\n",
      "29 x 2 = 58\n",
      "29 x 3 = 87\n",
      "29 x 4 = 116\n",
      "29 x 5 = 145\n",
      "29 x 6 = 174\n",
      "29 x 7 = 203\n",
      "29 x 8 = 232\n",
      "29 x 9 = 261\n",
      "\n"
     ]
    }
   ],
   "source": [
    "''' \n",
    "14. Print multiplication table of 24, 50 and 29 using loop.\n",
    "\n",
    "'''\n",
    "Table_numbers = [24, 50, 29]\n",
    "\n",
    "for num in Table_numbers:\n",
    "    print(f\"Multiplication table of {num}:\")\n",
    "    for i in range (10):\n",
    "        result = num * i\n",
    "        print(f\"{num} x {i} = {result}\")\n",
    "    \n",
    "    print()\n"
   ]
  },
  {
   "cell_type": "code",
   "execution_count": 52,
   "metadata": {},
   "outputs": [
    {
     "name": "stdout",
     "output_type": "stream",
     "text": [
      "Entered number is:  13\n",
      "Product of the entered numbers: 156\n",
      "Average of the entered numbers: 12.5\n"
     ]
    }
   ],
   "source": [
    "''' \n",
    "15. Take integer inputs from user until he/she presses q ( Ask to press q to quit after every integer input ). Print average and product of all numbers.\n",
    "\n",
    "'''\n",
    "sum= 0\n",
    "n = 0\n",
    "product = 1\n",
    "\n",
    "while True:\n",
    "    input1= input(\"Enter an integer  (press q to quit): \")\n",
    "    if input1.lower() == 'q':\n",
    "        break\n",
    "    \n",
    "    num = int(input1)\n",
    "    sum+= num\n",
    "    n+= 1\n",
    "    product *= num\n",
    "\n",
    "if n > 0:\n",
    "    average = sum / n\n",
    "else:\n",
    "    average = 0\n",
    "print(\"Entered number is: \", num)\n",
    "print(\"Product of the entered numbers:\", product)\n",
    "print(\"Average of the entered numbers:\", average)\n"
   ]
  },
  {
   "cell_type": "code",
   "execution_count": 64,
   "metadata": {},
   "outputs": [
    {
     "name": "stdout",
     "output_type": "stream",
     "text": [
      "The values of the list are:  [12, 13, 15, 14, 2]\n",
      "3 is not found in the list.\n"
     ]
    }
   ],
   "source": [
    "''' \n",
    "16. Take inputs from user to make a list. Again take one input from user and search it in the list and delete that element, if found. \n",
    "Iterate over list using for loop.\n",
    "\n",
    "'''\n",
    "\n",
    "List = []\n",
    "for i in range(5):\n",
    "    user_input = int(input(f\"Enter integer {i}: \"))\n",
    "    List.append(user_input)\n",
    "print(\"The values of the list are: \",List)\n",
    "   \n",
    "\n",
    "element_to_delete = input(\"Enter element to delete from list: \")\n",
    "\n",
    "if element_to_delete in List:\n",
    "    List.remove(element_to_delete)\n",
    "    print(f\"{element_to_delete} has been deleted from the list.\")\n",
    "else:\n",
    "    print(f\"{element_to_delete} is not found in the list.\")\n",
    "\n"
   ]
  },
  {
   "cell_type": "code",
   "execution_count": 2,
   "metadata": {},
   "outputs": [
    {
     "name": "stdout",
     "output_type": "stream",
     "text": [
      "Even numbers: [2, 4, 6, 8, 10, 12, 14, 16, 18, 20, 22, 24, 26, 28, 30, 32, 34, 36, 38, 40, 42, 44, 46, 48, 50, 52, 54, 56, 58, 60, 62, 64, 66, 68, 70, 72, 74, 76, 78, 80, 82, 84, 86, 88, 90, 92, 94, 96, 98, 100]\n",
      "Odd numbers: [1, 3, 5, 7, 9, 11, 13, 15, 17, 19, 21, 23, 25, 27, 29, 31, 33, 35, 37, 39, 41, 43, 45, 47, 49, 51, 53, 55, 57, 59, 61, 63, 65, 67, 69, 71, 73, 75, 77, 79, 81, 83, 85, 87, 89, 91, 93, 95, 97, 99]\n",
      "Prime numbers: [2, 3, 5, 7, 11, 13, 17, 19, 23, 29, 31, 37, 41, 43, 47, 53, 59, 61, 67, 71, 73, 79, 83, 89, 97]\n"
     ]
    }
   ],
   "source": [
    "''' \n",
    "17. Using range(1,101), make three list, \n",
    "one containing all even numbers\n",
    "one containing all odd numbers \n",
    "One containing only prime numbers..\n",
    "\n",
    "'''\n",
    "even_numbers = []\n",
    "odd_numbers = []\n",
    "prime_numbers = []\n",
    "\n",
    "def is_prime(num):\n",
    "    if num <= 1:\n",
    "        return False\n",
    "    for i in range(2, int(num ** 0.5) + 1):\n",
    "        if num % i == 0:\n",
    "            return False\n",
    "    return True\n",
    "\n",
    "for num in range(1, 101):\n",
    "    if num % 2 == 0:\n",
    "        even_numbers.append(num) \n",
    "    else:\n",
    "        odd_numbers.append(num)   \n",
    "    \n",
    "    if is_prime(num):\n",
    "        prime_numbers.append(num) \n",
    "\n",
    "# Print the lists\n",
    "print(\"Even numbers:\", even_numbers)\n",
    "print(\"Odd numbers:\", odd_numbers)\n",
    "print(\"Prime numbers:\", prime_numbers)\n",
    "\n"
   ]
  },
  {
   "cell_type": "code",
   "execution_count": 13,
   "metadata": {},
   "outputs": [
    {
     "name": "stdout",
     "output_type": "stream",
     "text": [
      "Even numbers: [2, 4, 6, 8, 10, 12, 14, 16, 18, 20, 22, 24, 26, 28, 30, 32, 34, 36, 38, 40, 42, 44, 46, 48, 50, 52, 54, 56, 58, 60, 62, 64, 66, 68, 70, 72, 74, 76, 78, 80, 82, 84, 86, 88, 90, 92, 94, 96, 98, 100]\n",
      "Odd numbers: [1, 3, 5, 7, 9, 11, 13, 15, 17, 19, 21, 23, 25, 27, 29, 31, 33, 35, 37, 39, 41, 43, 45, 47, 49, 51, 53, 55, 57, 59, 61, 63, 65, 67, 69, 71, 73, 75, 77, 79, 81, 83, 85, 87, 89, 91, 93, 95, 97, 99]\n",
      "Numbers divisible by 4: [4, 8, 12, 16, 20, 24, 28, 32, 36, 40, 44, 48, 52, 56, 60, 64, 68, 72, 76, 80, 84, 88, 92, 96, 100]\n",
      "Numbers divisible by 6: [6, 12, 18, 24, 30, 36, 42, 48, 54, 60, 66, 72, 78, 84, 90, 96]\n",
      "Numbers divisible by 8: [8, 16, 24, 32, 40, 48, 56, 64, 72, 80, 88, 96]\n",
      "Numbers divisible by 10: [10, 20, 30, 40, 50, 60, 70, 80, 90, 100]\n",
      "Numbers divisible by 3: [3, 6, 9, 12, 15, 18, 21, 24, 27, 30, 33, 36, 39, 42, 45, 48, 51, 54, 57, 60, 63, 66, 69, 72, 75, 78, 81, 84, 87, 90, 93, 96, 99]\n",
      "Numbers divisible by 5: [5, 10, 15, 20, 25, 30, 35, 40, 45, 50, 55, 60, 65, 70, 75, 80, 85, 90, 95, 100]\n",
      "Numbers divisible by 7: [7, 14, 21, 28, 35, 42, 49, 56, 63, 70, 77, 84, 91, 98]\n",
      "Numbers divisible by 9: [9, 18, 27, 36, 45, 54, 63, 72, 81, 90, 99]\n"
     ]
    }
   ],
   "source": [
    "''' \n",
    "18. From the two list obtained in previous question, make new lists, containing only numbers which are divisible by 4, 6, 8, 10, 3, 5, 7 and 9 in separate lists.\n",
    "\n",
    "'''\n",
    "\n",
    "print(\"Even numbers:\", even_numbers)\n",
    "print(\"Odd numbers:\", odd_numbers)\n",
    "\n",
    "divisible_by_4 = []\n",
    "divisible_by_6 = []\n",
    "divisible_by_8 = []\n",
    "divisible_by_10 = []\n",
    "divisible_by_3 = []\n",
    "divisible_by_5 = []\n",
    "divisible_by_7 = []\n",
    "divisible_by_9 = []\n",
    "\n",
    "\n",
    "for num in range(1, 101):\n",
    "    if num % 4 == 0:\n",
    "        divisible_by_4.append(num)\n",
    "    if num % 6 == 0:\n",
    "        divisible_by_6.append(num)\n",
    "    if num % 8 == 0:\n",
    "        divisible_by_8.append(num)\n",
    "    if num % 10 == 0:\n",
    "        divisible_by_10.append(num)\n",
    "    if num % 3 == 0:\n",
    "        divisible_by_3.append(num)\n",
    "    if num % 5 == 0:\n",
    "        divisible_by_5.append(num)\n",
    "    if num % 7 == 0:\n",
    "        divisible_by_7.append(num)\n",
    "    if num % 9 == 0:\n",
    "        divisible_by_9.append(num)\n",
    "\n",
    "print(\"Numbers divisible by 4:\", divisible_by_4)\n",
    "print(\"Numbers divisible by 6:\", divisible_by_6)\n",
    "print(\"Numbers divisible by 8:\", divisible_by_8)\n",
    "print(\"Numbers divisible by 10:\", divisible_by_10)\n",
    "print(\"Numbers divisible by 3:\", divisible_by_3)\n",
    "print(\"Numbers divisible by 5:\", divisible_by_5)\n",
    "print(\"Numbers divisible by 7:\", divisible_by_7)\n",
    "print(\"Numbers divisible by 9:\", divisible_by_9)\n",
    "\n"
   ]
  },
  {
   "cell_type": "code",
   "execution_count": 7,
   "metadata": {},
   "outputs": [
    {
     "name": "stdout",
     "output_type": "stream",
     "text": [
      "Integer List: [1, 3, 5]\n",
      "Float List: [2.0, 4.5]\n",
      "String List: ['apple', 'banana', 'cherry']\n"
     ]
    }
   ],
   "source": [
    "''' \n",
    "19. From a list containing ints, strings and floats, make three lists to store them separately\n",
    "\n",
    "'''\n",
    "List = [1, 2.0, \"apple\", 3, \"banana\", 4.5, \"cherry\", 5]\n",
    "\n",
    "int_list = []\n",
    "float_list = []\n",
    "str_list = []\n",
    "\n",
    "for x in List:\n",
    "    if isinstance(x, int):\n",
    "        int_list.append(x)\n",
    "    elif isinstance(x, float):\n",
    "        float_list.append(x)\n",
    "    elif isinstance(x, str):\n",
    "        str_list.append(x)\n",
    "\n",
    "print(\"Integer List:\", int_list)\n",
    "print(\"Float List:\", float_list)\n",
    "print(\"String List:\", str_list)\n"
   ]
  },
  {
   "cell_type": "code",
   "execution_count": 11,
   "metadata": {},
   "outputs": [
    {
     "name": "stdout",
     "output_type": "stream",
     "text": [
      "List: [1, 2, 3, 4, 5]\n",
      "Squared List: [1, 4, 9, 16, 25]\n"
     ]
    }
   ],
   "source": [
    "''' \n",
    "20.You are given with a list of integer elements. Make a new list which will store square of elements of previous list.\n",
    "'''\n",
    "List = [1, 2, 3, 4, 5]\n",
    "squared_list = [i**2 for i in List]\n",
    "print(\"List:\", List )\n",
    "print(\"Squared List:\", squared_list)\n"
   ]
  }
 ],
 "metadata": {
  "kernelspec": {
   "display_name": "base",
   "language": "python",
   "name": "python3"
  },
  "language_info": {
   "codemirror_mode": {
    "name": "ipython",
    "version": 3
   },
   "file_extension": ".py",
   "mimetype": "text/x-python",
   "name": "python",
   "nbconvert_exporter": "python",
   "pygments_lexer": "ipython3",
   "version": "3.9.13"
  }
 },
 "nbformat": 4,
 "nbformat_minor": 2
}
